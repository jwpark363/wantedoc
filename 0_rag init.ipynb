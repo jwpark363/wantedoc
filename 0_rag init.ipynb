{
 "cells": [
  {
   "cell_type": "code",
   "execution_count": null,
   "id": "6bc7ae0c",
   "metadata": {},
   "outputs": [],
   "source": [
    "import os\n",
    "from dotenv import load_dotenv\n",
    "from lib.rag.util import rule_to_splits, splits_to_chromadb, read_chromavector, read_pgvector\n",
    "from agent.rule_rag import init_chromavectorstore, init_pgtorstore\n",
    "\n",
    "load_dotenv()\n",
    "RULE_DIR = os.getenv('RULE_DIR')\n",
    "COLLECTION_NAME = os.getenv('COLLECTION_NAME')\n",
    "PERSIST_DIRECTORY = os.getenv('PERSIST_DIRECTORY')\n",
    "CONNECTION_STRING = os.getenv('RAG_DB_URL')\n"
   ]
  },
  {
   "cell_type": "code",
   "execution_count": null,
   "id": "a832bd59",
   "metadata": {},
   "outputs": [
    {
     "name": "stdout",
     "output_type": "stream",
     "text": [
      "--- 1. initialize vector store ---\n",
      "--- rule dir : ./rules\n",
      "--- split file : ./rules/기본문서_rule.txt / 기본문서\n",
      "****** loading file : ./rules/기본문서_rule.txt\n",
      "****** spliting text\n",
      "****** add metadata : 기본문서\n",
      "--- split file : ./rules/프로젝트관리양식_rule.txt / 프로젝트관리양식\n",
      "****** loading file : ./rules/프로젝트관리양식_rule.txt\n",
      "****** spliting text\n",
      "****** add metadata : 프로젝트관리양식\n",
      "--- creating croma vector store\n",
      "--- collection name : DOCUMENT_RULES\n",
      "--- persist directory : ./vectorstore\n",
      "****** creating croma vector store\n",
      "****** complete croma vector store\n",
      "--- 1. completed ---\n"
     ]
    }
   ],
   "source": [
    "# croma vectore 초기화\n",
    "init_chromavectorstore()"
   ]
  },
  {
   "cell_type": "code",
   "execution_count": 5,
   "id": "c5460915",
   "metadata": {},
   "outputs": [
    {
     "name": "stdout",
     "output_type": "stream",
     "text": [
      "--- 1. initialize vector store ---\n",
      "--- rule dir : ./rules\n",
      "--- split file : ./rules/기본문서_rule.txt / 기본문서\n",
      "****** loading file : ./rules/기본문서_rule.txt\n",
      "****** spliting text\n",
      "****** add metadata : 기본문서\n",
      "--- split file : ./rules/프로젝트관리양식_rule.txt / 프로젝트관리양식\n",
      "****** loading file : ./rules/프로젝트관리양식_rule.txt\n",
      "****** spliting text\n",
      "****** add metadata : 프로젝트관리양식\n",
      "--- creating croma vector store\n",
      "--- collection name : DOCUMENT_RULES\n",
      "--- persist directory : ./vectorstore\n",
      "****** creating pgvector store\n",
      "****** complete pgvector store\n",
      "--- 1. completed ---\n"
     ]
    }
   ],
   "source": [
    "# pgvector 초기화\n",
    "init_pgtorstore()"
   ]
  },
  {
   "cell_type": "code",
   "execution_count": 7,
   "id": "7f2aaa25",
   "metadata": {},
   "outputs": [
    {
     "name": "stderr",
     "output_type": "stream",
     "text": [
      "/mnt/c/myproject/wantedocs/lib/rag/util.py:54: LangChainPendingDeprecationWarning: This class is pending deprecation and may be removed in a future version. You can swap to using the `PGVector` implementation in `langchain_postgres`. Please read the guidelines in the doc-string of this class to follow prior to migrating as there are some differences between the implementations. See <https://github.com/langchain-ai/langchain-postgres> for details about the new implementation.\n",
      "  return PGVector(\n",
      "/mnt/c/myproject/wantedocs/lib/rag/util.py:54: LangChainPendingDeprecationWarning: Please use JSONB instead of JSON for metadata. This change will allow for more efficient querying that involves filtering based on metadata. Please note that filtering operators have been changed when using JSONB metadata to be prefixed with a $ sign to avoid name collisions with columns. If you're using an existing database, you will need to create a db migration for your metadata column to be JSONB and update your queries to use the new operators. \n",
      "  return PGVector(\n"
     ]
    },
    {
     "data": {
      "text/plain": [
       "<langchain_community.vectorstores.pgvector.PGVector at 0x739fe0774e10>"
      ]
     },
     "execution_count": 7,
     "metadata": {},
     "output_type": "execute_result"
    }
   ],
   "source": [
    "vectorstore = read_pgvector(collection_name=COLLECTION_NAME,connection_string=CONNECTION_STRING)\n",
    "vectorstore"
   ]
  },
  {
   "cell_type": "code",
   "execution_count": null,
   "id": "50f0c644",
   "metadata": {},
   "outputs": [
    {
     "data": {
      "text/plain": [
       "<langchain_community.vectorstores.pgvector._get_embedding_collection_store.<locals>.CollectionStore at 0x739fdf256e90>"
      ]
     },
     "execution_count": 29,
     "metadata": {},
     "output_type": "execute_result"
    }
   ],
   "source": [
    "store = vectorstore.CollectionStore()\n",
    "store"
   ]
  },
  {
   "cell_type": "code",
   "execution_count": 34,
   "id": "7a5ed270",
   "metadata": {},
   "outputs": [
    {
     "data": {
      "text/plain": [
       "[Document(metadata={'source': './rules/프로젝트관리양식_rule.txt', 'name': '프로젝트관리양식'}, page_content='# 프로젝트 관리 양식 검토 규칙\\n\\n## 1. 핵심 규칙 (문서 전체)\\n\\n* **[규칙 1-1: 플레이스홀더 금지]**\\n    * [cite_start]문서 본문 전체에서 \"여기에 텍스트를 입력하세요\"라는 기본 문자열이 발견되어서는 안 됩니다. [cite: 8, 11, 14, 19, 22, 24, 27, 29, 33, 35, 37]\\n    * 이 문자열이 발견될 경우, 해당 항목은 \\'작성되지 않음\\'으로 간주합니다.\\n\\n## 2. 페이지 1: 프로젝트 개요'),\n",
       " Document(metadata={'source': './rules/기본문서_rule.txt', 'name': '기본문서'}, page_content=\"# 문서 작성 가이드라인\\n\\n## 1. 제목 규칙\\n    * 제목은 'HY 헤드라인 M' 글꼴, 20pt, 굵게(Bold) 처리해야 합니다.\\n    * 제목에는 '보고서', '제안서' 등 문서 유형이 명확히 포함되어야 합니다.\\n\\n## 2. 작성자 정보\\n    * '작성자:'와 '소속:' 항목이 본문 시작 전에 반드시 포함되어야 합니다.\\n    * 작성 일자는 'YYYY-MM-DD' 형식으로 기재해야 합니다.\\n\\n## 3. 본문 스타일\\n    * 모든 문장은 '-다.' 또는 '-함.' 체로 통일해야 합니다. ('-요.' 체 혼용 금지)\\n    * 목차는 2단계를 초과하지 않아야 합니다. (예: 1. 가. / 2. 나.)\"),\n",
       " Document(metadata={'source': './rules/프로젝트관리양식_rule.txt', 'name': '프로젝트관리양식'}, page_content=\"## 4. 페이지 3: 회고 (프로젝트 종료 시점)\\n\\n* **[규칙 4-1: 필수 섹션 (회고)]**\\n    * '7) 회고 사항'은 '종료 후 진행' 항목입니다. (만약 문서가 '진행 중' 상태라면 이 섹션은 비어 있을 수 있습니다.) [cite_start][cite: 31]\\n    * 만약 검토 시점이 '프로젝트 종료 후'라면, 다음 항목이 모두 채워져 있어야 합니다.\\n        * [cite_start]'잘한점' [cite: 32]\\n        * [cite_start]'개선해야 할 점' [cite: 34]\\n        * [cite_start]'개선을 위한 실행 계획' [cite: 36]\"),\n",
       " Document(metadata={'source': './rules/프로젝트관리양식_rule.txt', 'name': '프로젝트관리양식'}, page_content='## 3. 페이지 2: 프로젝트 관리\\n\\n* **[규칙 3-1: 필수 섹션 (관리)]**\\n    * [cite_start]\\'4) 팀원별 수행 역할\\' 섹션이 구체적인 내용으로 채워져 있어야 합니다. [cite: 18]\\n* **[규칙 3-2: Daily Log]**\\n    * [cite_start]\\'5) 추진 사항 기록(daily)\\' 섹션에 최소 1개 이상의 일일 기록이 날짜(\"YY. MM. xx\" 형식)와 함께 작성되어야 합니다. [cite: 20, 21]\\n* **[규칙 3-3: 피드백 기록]**\\n    * \\'6) 강사님 피드백\\' 섹션에 날짜와 함께 피드백 내용이 기록되어야 합니다. (피드백이 없었다면 \\'해당 없음\\' 등 명시적 표시 권장) [cite_start][cite: 25, 26]\\n\\n## 4. 페이지 3: 회고 (프로젝트 종료 시점)'),\n",
       " Document(metadata={'source': './rules/프로젝트관리양식_rule.txt', 'name': '프로젝트관리양식'}, page_content=\"* [cite_start]'3) 사용 기술' 섹션이 구체적인 내용으로 채워져 있어야 합니다. [cite: 13]\"),\n",
       " Document(metadata={'source': './rules/프로젝트관리양식_rule.txt', 'name': '프로젝트관리양식'}, page_content='* **[규칙 2-1: 기본 정보]**\\n    * [cite_start]\\'프로젝트 이름\\'이 반드시 명시되어야 합니다. [cite: 4]\\n    * [cite_start]\\'트랙 / 팀명\\' (예: AI트랙 / OOO팀)이 명시되어야 합니다. [cite: 5]\\n    * [cite_start]\\'팀원\\' 목록이 명시되어야 합니다. [cite: 6]\\n* **[규칙 2-2: 프로젝트 기간]**\\n    * [cite_start]프로젝트 기간 (시작일과 종료일)이 \"YY년 MM월 N일\" 또는 유사한 날짜 형식으로 기재되어야 합니다. [cite: 3]\\n* **[규칙 2-3: 필수 섹션 (개요)]**\\n    * [cite_start]\\'1) 기획 배경\\' 섹션이 구체적인 내용으로 채워져 있어야 합니다. [cite: 7]\\n    * [cite_start]\\'2) 프로젝트 목표\\' 섹션이 구체적인 내용으로 채워져 있어야 합니다. [cite: 10]')]"
      ]
     },
     "execution_count": 34,
     "metadata": {},
     "output_type": "execute_result"
    }
   ],
   "source": [
    "vectorstore.similarity_search(\"전체 문서\",k=10)"
   ]
  },
  {
   "cell_type": "code",
   "execution_count": 10,
   "id": "3d4271fd",
   "metadata": {},
   "outputs": [
    {
     "name": "stdout",
     "output_type": "stream",
     "text": [
      "\n",
      "\n",
      "****** meta : 프로젝트관리양식\n",
      "## 3. 페이지 2: 프로젝트 관리\n",
      "\n",
      "* **[규칙 3-1: 필수 섹션 (관리)]**\n",
      "    * [cite_start]'4) 팀원별 수행 역할' 섹션이 구체적인 내용으로 채워져 있어야 합니다. [cite: 18]\n",
      "* **[규칙 3-2: Daily Log]**\n",
      "    * [cite_start]'5) 추진 사항 기록(daily)' 섹션에 최소 1개 이상의 일일 기록이 날짜(\"YY. MM. xx\" 형식)와 함께 작성되어야 합니다. [cite: 20, 21]\n",
      "* **[규칙 3-3: 피드백 기록]**\n",
      "    * '6) 강사님 피드백' 섹션에 날짜와 함께 피드백 내용이 기록되어야 합니다. (피드백이 없었다면 '해당 없음' 등 명시적 표시 권장) [cite_start][cite: 25, 26]\n",
      "\n",
      "## 4. 페이지 3: 회고 (프로젝트 종료 시점)\n",
      "\n",
      "\n",
      "****** meta : 프로젝트관리양식\n",
      "# 프로젝트 관리 양식 검토 규칙\n",
      "\n",
      "## 1. 핵심 규칙 (문서 전체)\n",
      "\n",
      "* **[규칙 1-1: 플레이스홀더 금지]**\n",
      "    * [cite_start]문서 본문 전체에서 \"여기에 텍스트를 입력하세요\"라는 기본 문자열이 발견되어서는 안 됩니다. [cite: 8, 11, 14, 19, 22, 24, 27, 29, 33, 35, 37]\n",
      "    * 이 문자열이 발견될 경우, 해당 항목은 '작성되지 않음'으로 간주합니다.\n",
      "\n",
      "## 2. 페이지 1: 프로젝트 개요\n",
      "\n",
      "\n",
      "****** meta : 프로젝트관리양식\n",
      "## 4. 페이지 3: 회고 (프로젝트 종료 시점)\n",
      "\n",
      "* **[규칙 4-1: 필수 섹션 (회고)]**\n",
      "    * '7) 회고 사항'은 '종료 후 진행' 항목입니다. (만약 문서가 '진행 중' 상태라면 이 섹션은 비어 있을 수 있습니다.) [cite_start][cite: 31]\n",
      "    * 만약 검토 시점이 '프로젝트 종료 후'라면, 다음 항목이 모두 채워져 있어야 합니다.\n",
      "        * [cite_start]'잘한점' [cite: 32]\n",
      "        * [cite_start]'개선해야 할 점' [cite: 34]\n",
      "        * [cite_start]'개선을 위한 실행 계획' [cite: 36]\n",
      "\n",
      "\n",
      "****** meta : 프로젝트관리양식\n",
      "* [cite_start]'3) 사용 기술' 섹션이 구체적인 내용으로 채워져 있어야 합니다. [cite: 13]\n",
      "\n",
      "\n",
      "****** meta : 프로젝트관리양식\n",
      "* **[규칙 2-1: 기본 정보]**\n",
      "    * [cite_start]'프로젝트 이름'이 반드시 명시되어야 합니다. [cite: 4]\n",
      "    * [cite_start]'트랙 / 팀명' (예: AI트랙 / OOO팀)이 명시되어야 합니다. [cite: 5]\n",
      "    * [cite_start]'팀원' 목록이 명시되어야 합니다. [cite: 6]\n",
      "* **[규칙 2-2: 프로젝트 기간]**\n",
      "    * [cite_start]프로젝트 기간 (시작일과 종료일)이 \"YY년 MM월 N일\" 또는 유사한 날짜 형식으로 기재되어야 합니다. [cite: 3]\n",
      "* **[규칙 2-3: 필수 섹션 (개요)]**\n",
      "    * [cite_start]'1) 기획 배경' 섹션이 구체적인 내용으로 채워져 있어야 합니다. [cite: 7]\n",
      "    * [cite_start]'2) 프로젝트 목표' 섹션이 구체적인 내용으로 채워져 있어야 합니다. [cite: 10]\n"
     ]
    }
   ],
   "source": [
    "for doc in vectorstore.similarity_search(\n",
    "    \"피드백\",\n",
    "    k=10,\n",
    "    filter={\n",
    "        'name':'프로젝트관리양식'\n",
    "}):\n",
    "    print(f'\\n\\n****** meta : {doc.metadata[\"name\"]}')\n",
    "    print(doc.page_content)"
   ]
  },
  {
   "cell_type": "code",
   "execution_count": 11,
   "id": "91f35952",
   "metadata": {},
   "outputs": [
    {
     "data": {
      "text/plain": [
       "[Document(metadata={'source': './rules/프로젝트관리양식_rule.txt', 'name': '프로젝트관리양식'}, page_content='# 프로젝트 관리 양식 검토 규칙\\n\\n## 1. 핵심 규칙 (문서 전체)\\n\\n* **[규칙 1-1: 플레이스홀더 금지]**\\n    * [cite_start]문서 본문 전체에서 \"여기에 텍스트를 입력하세요\"라는 기본 문자열이 발견되어서는 안 됩니다. [cite: 8, 11, 14, 19, 22, 24, 27, 29, 33, 35, 37]\\n    * 이 문자열이 발견될 경우, 해당 항목은 \\'작성되지 않음\\'으로 간주합니다.\\n\\n## 2. 페이지 1: 프로젝트 개요'),\n",
       " Document(metadata={'source': './rules/프로젝트관리양식_rule.txt', 'name': '프로젝트관리양식'}, page_content='* **[규칙 2-1: 기본 정보]**\\n    * [cite_start]\\'프로젝트 이름\\'이 반드시 명시되어야 합니다. [cite: 4]\\n    * [cite_start]\\'트랙 / 팀명\\' (예: AI트랙 / OOO팀)이 명시되어야 합니다. [cite: 5]\\n    * [cite_start]\\'팀원\\' 목록이 명시되어야 합니다. [cite: 6]\\n* **[규칙 2-2: 프로젝트 기간]**\\n    * [cite_start]프로젝트 기간 (시작일과 종료일)이 \"YY년 MM월 N일\" 또는 유사한 날짜 형식으로 기재되어야 합니다. [cite: 3]\\n* **[규칙 2-3: 필수 섹션 (개요)]**\\n    * [cite_start]\\'1) 기획 배경\\' 섹션이 구체적인 내용으로 채워져 있어야 합니다. [cite: 7]\\n    * [cite_start]\\'2) 프로젝트 목표\\' 섹션이 구체적인 내용으로 채워져 있어야 합니다. [cite: 10]'),\n",
       " Document(metadata={'source': './rules/프로젝트관리양식_rule.txt', 'name': '프로젝트관리양식'}, page_content='## 3. 페이지 2: 프로젝트 관리\\n\\n* **[규칙 3-1: 필수 섹션 (관리)]**\\n    * [cite_start]\\'4) 팀원별 수행 역할\\' 섹션이 구체적인 내용으로 채워져 있어야 합니다. [cite: 18]\\n* **[규칙 3-2: Daily Log]**\\n    * [cite_start]\\'5) 추진 사항 기록(daily)\\' 섹션에 최소 1개 이상의 일일 기록이 날짜(\"YY. MM. xx\" 형식)와 함께 작성되어야 합니다. [cite: 20, 21]\\n* **[규칙 3-3: 피드백 기록]**\\n    * \\'6) 강사님 피드백\\' 섹션에 날짜와 함께 피드백 내용이 기록되어야 합니다. (피드백이 없었다면 \\'해당 없음\\' 등 명시적 표시 권장) [cite_start][cite: 25, 26]\\n\\n## 4. 페이지 3: 회고 (프로젝트 종료 시점)'),\n",
       " Document(metadata={'source': './rules/프로젝트관리양식_rule.txt', 'name': '프로젝트관리양식'}, page_content=\"## 4. 페이지 3: 회고 (프로젝트 종료 시점)\\n\\n* **[규칙 4-1: 필수 섹션 (회고)]**\\n    * '7) 회고 사항'은 '종료 후 진행' 항목입니다. (만약 문서가 '진행 중' 상태라면 이 섹션은 비어 있을 수 있습니다.) [cite_start][cite: 31]\\n    * 만약 검토 시점이 '프로젝트 종료 후'라면, 다음 항목이 모두 채워져 있어야 합니다.\\n        * [cite_start]'잘한점' [cite: 32]\\n        * [cite_start]'개선해야 할 점' [cite: 34]\\n        * [cite_start]'개선을 위한 실행 계획' [cite: 36]\"),\n",
       " Document(metadata={'source': './rules/프로젝트관리양식_rule.txt', 'name': '프로젝트관리양식'}, page_content=\"* [cite_start]'3) 사용 기술' 섹션이 구체적인 내용으로 채워져 있어야 합니다. [cite: 13]\")]"
      ]
     },
     "execution_count": 11,
     "metadata": {},
     "output_type": "execute_result"
    }
   ],
   "source": [
    "retriever = vectorstore.as_retriever(\n",
    "    search_kwargs={\n",
    "        \"k\":10,\n",
    "        \"filter\": {\"name\": \"프로젝트관리양식\"}\n",
    "    }\n",
    ")\n",
    "docs = retriever.invoke('모든 규칙')\n",
    "docs"
   ]
  },
  {
   "cell_type": "code",
   "execution_count": null,
   "id": "0c7fccf2",
   "metadata": {},
   "outputs": [],
   "source": []
  }
 ],
 "metadata": {
  "kernelspec": {
   "display_name": "wantedocs",
   "language": "python",
   "name": "python3"
  },
  "language_info": {
   "codemirror_mode": {
    "name": "ipython",
    "version": 3
   },
   "file_extension": ".py",
   "mimetype": "text/x-python",
   "name": "python",
   "nbconvert_exporter": "python",
   "pygments_lexer": "ipython3",
   "version": "3.11.13"
  }
 },
 "nbformat": 4,
 "nbformat_minor": 5
}
